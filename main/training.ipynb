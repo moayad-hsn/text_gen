{
 "cells": [
  {
   "cell_type": "code",
   "execution_count": 1,
   "metadata": {
    "execution": {
     "iopub.execute_input": "2022-08-10T14:02:09.992480Z",
     "iopub.status.busy": "2022-08-10T14:02:09.987693Z",
     "iopub.status.idle": "2022-08-10T14:02:12.872562Z",
     "shell.execute_reply": "2022-08-10T14:02:12.870819Z",
     "shell.execute_reply.started": "2022-08-10T14:02:09.991351Z"
    },
    "id": "oxiZ42B4SwQ-",
    "tags": []
   },
   "outputs": [],
   "source": [
    "%matplotlib inline\n",
    "\n",
    "import numpy as np\n",
    "from matplotlib import pyplot as plt\n",
    "import time\n",
    "import os\n",
    "import torch\n",
    "import torch.nn as nn\n",
    "from torch.autograd import Variable\n",
    "from torch.utils.data import Dataset, DataLoader\n",
    "from tests_hw4 import test_prediction, test_generation"
   ]
  },
  {
   "cell_type": "code",
   "execution_count": 2,
   "metadata": {
    "execution": {
     "iopub.execute_input": "2022-08-10T14:02:12.888156Z",
     "iopub.status.busy": "2022-08-10T14:02:12.884281Z",
     "iopub.status.idle": "2022-08-10T14:02:12.960590Z",
     "shell.execute_reply": "2022-08-10T14:02:12.958805Z",
     "shell.execute_reply.started": "2022-08-10T14:02:12.888058Z"
    },
    "id": "x5znxQhLSwRC",
    "tags": []
   },
   "outputs": [],
   "source": [
    "# load all that we need\n",
    "\n",
    "dataset = np.load('../dataset/wiki.train.npy', allow_pickle=True)\n",
    "devset = np.load('../dataset/wiki.valid.npy', allow_pickle=True)\n",
    "fixtures_pred = np.load('../fixtures/prediction.npz')  # dev\n",
    "fixtures_gen = np.load('../fixtures/generation.npy')  # dev\n",
    "fixtures_pred_test = np.load('../fixtures/prediction_test.npz')  # test\n",
    "fixtures_gen_test = np.load('../fixtures/generation_test.npy')  # test\n",
    "vocab = np.load('../dataset/vocab.npy')"
   ]
  },
  {
   "cell_type": "code",
   "execution_count": 3,
   "metadata": {
    "execution": {
     "iopub.execute_input": "2022-08-10T14:02:12.976526Z",
     "iopub.status.busy": "2022-08-10T14:02:12.973129Z",
     "iopub.status.idle": "2022-08-10T14:02:13.075531Z",
     "shell.execute_reply": "2022-08-10T14:02:13.073088Z",
     "shell.execute_reply.started": "2022-08-10T14:02:12.976317Z"
    },
    "tags": []
   },
   "outputs": [
    {
     "data": {
      "text/plain": [
       "'cuda'"
      ]
     },
     "execution_count": 3,
     "metadata": {},
     "output_type": "execute_result"
    }
   ],
   "source": [
    "device = \"cuda\" if torch.cuda.is_available() else \"cpu\"\n",
    "device"
   ]
  },
  {
   "cell_type": "code",
   "execution_count": 4,
   "metadata": {
    "execution": {
     "iopub.execute_input": "2022-08-10T14:02:13.079390Z",
     "iopub.status.busy": "2022-08-10T14:02:13.078847Z",
     "iopub.status.idle": "2022-08-10T14:02:13.196189Z",
     "shell.execute_reply": "2022-08-10T14:02:13.192167Z",
     "shell.execute_reply.started": "2022-08-10T14:02:13.079324Z"
    },
    "id": "OZNrJ8XvSwRF",
    "tags": []
   },
   "outputs": [],
   "source": [
    "class LanguageModelDataLoader(DataLoader):\n",
    "    \"\"\"\n",
    "        TODO: Define data loader logic here\n",
    "    \"\"\"\n",
    "    def __init__(self, dataset, batch_size, shuffle=True):\n",
    "        \n",
    "        self.dataset = dataset\n",
    "        self.batch_size = batch_size\n",
    "        self.shuffle = shuffle\n",
    "\n",
    "\n",
    "    def __iter__(self):\n",
    "        # concatenate your articles and build into batches\n",
    "        # 1. Shuffle data\n",
    "        if self.shuffle:\n",
    "            np.random.shuffle(self.dataset)\n",
    "        # 2. Concatenate articles and drop extra words\n",
    "        new_dataset = np.concatenate(self.dataset)\n",
    "        num_batches = (len(new_dataset)-1) // self.batch_size\n",
    "        \n",
    "        window = num_batches*self.batch_size\n",
    "        # inputs\n",
    "        inputs = new_dataset[:window].reshape(self.batch_size, -1)\n",
    "        inputs = torch.LongTensor(inputs)\n",
    "        # targets\n",
    "        targets = new_dataset[1:window+1].reshape(self.batch_size, -1)\n",
    "        targets = torch.LongTensor(targets)\n",
    "        \n",
    "        batch_idx = 0\n",
    "        while batch_idx < num_batches:\n",
    "        # ======================================================\n",
    "        #                   adapted from paper\n",
    "        # Title: Regularizing and Optimizing LSTM Language Models\n",
    "        # Authors: \n",
    "        # - Stephen Merity\n",
    "        # - Nitish Shirish Keskar\n",
    "        # - Richard Socher\n",
    "        # Section 4.1: Variable length backpropagation sequences\n",
    "        # =======================================================\n",
    "            p = np.random.random_sample()\n",
    "            if p < 0.95:\n",
    "                self.seq_len = round(np.random.normal(25, 5))\n",
    "            else:\n",
    "                self.seq_len = round(np.random.normal(19, 5))\n",
    "            \n",
    "            # 3. batching\n",
    "            inp = inputs[:, batch_idx:batch_idx+self.seq_len].T\n",
    "            tgt = targets[:, batch_idx:batch_idx+self.seq_len].T\n",
    "            \n",
    "            # update batch index\n",
    "            batch_idx += self.seq_len\n",
    "            \n",
    "            # 4. return\n",
    "            yield inp, tgt # -->(seq_len, batch_size)"
   ]
  },
  {
   "cell_type": "code",
   "execution_count": 5,
   "metadata": {
    "execution": {
     "iopub.execute_input": "2022-08-10T14:02:13.201209Z",
     "iopub.status.busy": "2022-08-10T14:02:13.199554Z",
     "iopub.status.idle": "2022-08-10T14:02:13.335574Z",
     "shell.execute_reply": "2022-08-10T14:02:13.333740Z",
     "shell.execute_reply.started": "2022-08-10T14:02:13.201127Z"
    },
    "tags": []
   },
   "outputs": [],
   "source": [
    "dl = LanguageModelDataLoader(dataset=dataset, batch_size=128)"
   ]
  },
  {
   "cell_type": "code",
   "execution_count": 6,
   "metadata": {
    "execution": {
     "iopub.execute_input": "2022-08-10T14:02:13.338661Z",
     "iopub.status.busy": "2022-08-10T14:02:13.337960Z",
     "iopub.status.idle": "2022-08-10T14:02:13.435966Z",
     "shell.execute_reply": "2022-08-10T14:02:13.434098Z",
     "shell.execute_reply.started": "2022-08-10T14:02:13.338592Z"
    },
    "id": "Zt-7YsTYSwRI",
    "tags": []
   },
   "outputs": [],
   "source": [
    "# model\n",
    "\n",
    "class LanguageModel(nn.Module):\n",
    "    \"\"\"\n",
    "        TODO: Define your model here\n",
    "    \"\"\"\n",
    "    def __init__(self, vocab_size, embedding_dim:int=512, hidden_size:int=512, num_layers:int=3, bidir:bool=False):\n",
    "        super(LanguageModel, self).__init__()\n",
    "        \n",
    "        self.vocab_size = vocab_size\n",
    "        self.embedding_dim = embedding_dim\n",
    "        self.hidden_size = hidden_size\n",
    "        self.num_layers = num_layers\n",
    "        # layers\n",
    "        self.embedding = nn.Embedding(num_embeddings=vocab_size, embedding_dim=self.embedding_dim)\n",
    "        self.dropout = nn.Dropout(p=0.1)\n",
    "        self.encoder = nn.LSTM(\n",
    "            input_size=self.embedding_dim, \n",
    "            hidden_size=self.hidden_size, \n",
    "            num_layers=self.num_layers, \n",
    "            bidirectional=bidir, \n",
    "            batch_first=False\n",
    "        )\n",
    "        if bidir:\n",
    "            n = 2\n",
    "        else:\n",
    "            n = 1\n",
    "        self.decoder = nn.Linear(in_features=self.hidden_size* n, out_features=self.vocab_size)\n",
    "        self.decoder.weight = self.embedding.weight # weight tying\n",
    "\n",
    "    def forward(self, x, hidden=None):\n",
    "        # Feel free to add extra arguments to forward (like an argument to pass in the hiddens)\n",
    "        S, BS = x.size()\n",
    "        \n",
    "        out = self.embedding(x)\n",
    "        out = self.dropout(out)\n",
    "        out, hidden = self.encoder(out, hidden)\n",
    "        out = out.reshape(-1, self.hidden_size)\n",
    "        out = self.decoder(out)\n",
    "        # format output: ---> (seq_len, batch_size, vocab_size)\n",
    "        out = out.view(-1, BS, self.vocab_size)\n",
    "        \n",
    "        return out"
   ]
  },
  {
   "cell_type": "code",
   "execution_count": 7,
   "metadata": {
    "execution": {
     "iopub.execute_input": "2022-08-10T14:02:13.440820Z",
     "iopub.status.busy": "2022-08-10T14:02:13.440281Z",
     "iopub.status.idle": "2022-08-10T14:02:13.644455Z",
     "shell.execute_reply": "2022-08-10T14:02:13.642614Z",
     "shell.execute_reply.started": "2022-08-10T14:02:13.440752Z"
    },
    "id": "kIvZOIfjSwRK",
    "tags": []
   },
   "outputs": [],
   "source": [
    "# model trainer\n",
    "\n",
    "class LanguageModelTrainer:\n",
    "    def __init__(self, model, loader, max_epochs=1, lr=3e-3, run_id='exp'):\n",
    "        \"\"\"\n",
    "            Use this class to train your model\n",
    "        \"\"\"\n",
    "        # feel free to add any other parameters here\n",
    "        self.model = model\n",
    "        self.loader = loader\n",
    "        self.train_losses = []\n",
    "        self.val_losses = []\n",
    "        self.predictions = []\n",
    "        self.predictions_test = []\n",
    "        self.generated_logits = []\n",
    "        self.generated = []\n",
    "        self.generated_logits_test = []\n",
    "        self.generated_test = []\n",
    "        self.epochs = 0\n",
    "        self.max_epochs = max_epochs\n",
    "        self.run_id = run_id\n",
    "        self.lr = lr\n",
    "        \n",
    "        # TODO: Define your optimizer and criterion here\n",
    "        self.optimizer = torch.optim.Adam(params=self.model.parameters(), weight_decay=1e-6, lr=self.lr) # adam is better with quite little lr\n",
    "        self.criterion = nn.CrossEntropyLoss().to(device)\n",
    "        self.scheduler = torch.optim.lr_scheduler.StepLR(optimizer=self.optimizer, step_size=1, gamma=.6)\n",
    "\n",
    "    def train(self):\n",
    "        self.model.train() # set to training mode\n",
    "        self.model.to(device)\n",
    "        epoch_loss = 0\n",
    "        num_batches = 0\n",
    "        \n",
    "        for batch_num, (inputs, targets) in enumerate(self.loader):\n",
    "            loss = self.train_batch(inputs, targets)\n",
    "            epoch_loss += loss\n",
    "        \n",
    "        epoch_loss = epoch_loss / (batch_num + 1)\n",
    "        self.epochs += 1\n",
    "        print('[TRAIN]  Epoch [%d/%d]   Loss: %.4f'\n",
    "                      % (self.epochs, self.max_epochs, epoch_loss))\n",
    "        self.train_losses.append(epoch_loss)\n",
    "        self.scheduler.step()\n",
    "\n",
    "    def train_batch(self, inputs, targets):\n",
    "        \"\"\" \n",
    "            TODO: Define code for training a single batch of inputs\n",
    "        \n",
    "        \"\"\"\n",
    "        inputs, targets = inputs.to(device), targets.to(device)\n",
    "        \n",
    "        out = self.model(inputs)\n",
    "        # format inputs to the loss function\n",
    "        out = out.view(-1, out.size(2))\n",
    "        targets = targets.contiguous().view(-1) # flatten targets\n",
    "        loss = self.criterion(out, targets)\n",
    "        \n",
    "        # backward pas\n",
    "        self.optimizer.zero_grad()\n",
    "        loss.backward()\n",
    "        self.optimizer.step()\n",
    "        \n",
    "        return loss.item()\n",
    "\n",
    "    \n",
    "    def test(self):\n",
    "        # don't change these\n",
    "        self.model.eval() # set to eval mode\n",
    "        predictions = TestLanguageModel.prediction(fixtures_pred['inp'], self.model) # get predictions\n",
    "        self.predictions.append(predictions)\n",
    "        generated_logits = TestLanguageModel.generation(fixtures_gen, 10, self.model) # generated predictions for 10 words\n",
    "        generated_logits_test = TestLanguageModel.generation(fixtures_gen_test, 10, self.model)\n",
    "        nll = test_prediction(predictions, fixtures_pred['out'])\n",
    "        generated = test_generation(fixtures_gen, generated_logits, vocab)\n",
    "        generated_test = test_generation(fixtures_gen_test, generated_logits_test, vocab)\n",
    "        self.val_losses.append(nll)\n",
    "        \n",
    "        self.generated.append(generated)\n",
    "        self.generated_test.append(generated_test)\n",
    "        self.generated_logits.append(generated_logits)\n",
    "        self.generated_logits_test.append(generated_logits_test)\n",
    "        \n",
    "        # generate predictions for test data\n",
    "        predictions_test = TestLanguageModel.prediction(fixtures_pred_test['inp'], self.model) # get predictions\n",
    "        self.predictions_test.append(predictions_test)\n",
    "            \n",
    "        print('[VAL]  Epoch [%d/%d]   Loss: %.4f'\n",
    "                      % (self.epochs, self.max_epochs, nll))\n",
    "        return nll\n",
    "\n",
    "    def save(self):\n",
    "        # don't change these\n",
    "        model_path = os.path.join('experiments', self.run_id, 'model-{}.pkl'.format(self.epochs))\n",
    "        torch.save({'state_dict': self.model.state_dict()},\n",
    "            model_path)\n",
    "        np.save(os.path.join('experiments', self.run_id, 'predictions-{}.npy'.format(self.epochs)), self.predictions[-1])\n",
    "        np.save(os.path.join('experiments', self.run_id, 'predictions-test-{}.npy'.format(self.epochs)), self.predictions_test[-1])\n",
    "        np.save(os.path.join('experiments', self.run_id, 'generated_logits-{}.npy'.format(self.epochs)), self.generated_logits[-1])\n",
    "        np.save(os.path.join('experiments', self.run_id, 'generated_logits-test-{}.npy'.format(self.epochs)), self.generated_logits_test[-1])\n",
    "        with open(os.path.join('experiments', self.run_id, 'generated-{}.txt'.format(self.epochs)), 'w') as fw:\n",
    "            fw.write(self.generated[-1])\n",
    "        with open(os.path.join('experiments', self.run_id, 'generated-{}-test.txt'.format(self.epochs)), 'w') as fw:\n",
    "            fw.write(self.generated_test[-1])\n"
   ]
  },
  {
   "cell_type": "code",
   "execution_count": 8,
   "metadata": {
    "execution": {
     "iopub.execute_input": "2022-08-10T14:02:13.650105Z",
     "iopub.status.busy": "2022-08-10T14:02:13.649526Z",
     "iopub.status.idle": "2022-08-10T14:02:13.848017Z",
     "shell.execute_reply": "2022-08-10T14:02:13.846424Z",
     "shell.execute_reply.started": "2022-08-10T14:02:13.650036Z"
    },
    "id": "xPI7_kZRSwRN",
    "tags": []
   },
   "outputs": [],
   "source": [
    "class TestLanguageModel:\n",
    "    def prediction(inp, model):\n",
    "        \"\"\"\n",
    "            TODO: write prediction code here\n",
    "            \n",
    "            :param inp:\n",
    "            :return: a np.ndarray of logits\n",
    "        \"\"\"\n",
    "        model.eval()\n",
    "        with torch.no_grad():\n",
    "            inp = inp.T\n",
    "            inp = torch.tensor(inp).long().to(device)\n",
    "            out = model(inp)\n",
    "            pred = out[-1, :]\n",
    "        \n",
    "        return pred.detach().cpu().numpy()\n",
    "\n",
    "        \n",
    "    def generation(inp, forward, model):\n",
    "        \"\"\"\n",
    "            TODO: write generation code here\n",
    "\n",
    "            Generate a sequence of words given a starting sequence.\n",
    "            :param inp: Initial sequence of words (batch size, length)\n",
    "            :param forward: number of additional words to generate\n",
    "            :return: generated words (batch size, forward)\n",
    "        \"\"\"        \n",
    "        model.eval()\n",
    "        with torch.no_grad():\n",
    "            inp = torch.tensor(inp).long().to(device)\n",
    "            for _ in range(forward):\n",
    "                fwd_input = inp.permute(1, 0)\n",
    "                # prediction\n",
    "                out = model(fwd_input)[-1, :]\n",
    "                word = torch.argmax(out, dim=1, keepdim=True)\n",
    "                inp = torch.cat((inp, word), dim=1) # add pred to all predicions\n",
    "            words = inp[:, -forward:] # keep last perdicted words\n",
    "        return words.detach().cpu().numpy()\n",
    "        "
   ]
  },
  {
   "cell_type": "code",
   "execution_count": 9,
   "metadata": {
    "execution": {
     "iopub.execute_input": "2022-08-10T14:02:13.852171Z",
     "iopub.status.busy": "2022-08-10T14:02:13.850633Z",
     "iopub.status.idle": "2022-08-10T14:02:13.927227Z",
     "shell.execute_reply": "2022-08-10T14:02:13.924500Z",
     "shell.execute_reply.started": "2022-08-10T14:02:13.852093Z"
    },
    "id": "TiUrjbEjSwRQ",
    "tags": []
   },
   "outputs": [],
   "source": [
    "# TODO: define other hyperparameters here\n",
    "\n",
    "NUM_EPOCHS = 8\n",
    "BATCH_SIZE = 128\n",
    "LR = 4e-3\n",
    "EMB_DIM = 350\n",
    "HIDDEN_SIZE = 350"
   ]
  },
  {
   "cell_type": "code",
   "execution_count": 10,
   "metadata": {
    "execution": {
     "iopub.execute_input": "2022-08-10T14:02:13.931258Z",
     "iopub.status.busy": "2022-08-10T14:02:13.930204Z",
     "iopub.status.idle": "2022-08-10T14:02:14.107883Z",
     "shell.execute_reply": "2022-08-10T14:02:14.105987Z",
     "shell.execute_reply.started": "2022-08-10T14:02:13.931185Z"
    },
    "id": "2HCVG5YISwRW",
    "tags": []
   },
   "outputs": [
    {
     "name": "stdout",
     "output_type": "stream",
     "text": [
      "Saving models, predictions, and generated words to ./experiments/1660140134\n"
     ]
    }
   ],
   "source": [
    "run_id = str(int(time.time()))\n",
    "if not os.path.exists('./experiments'):\n",
    "    os.mkdir('./experiments')\n",
    "os.mkdir('./experiments/%s' % run_id)\n",
    "print(\"Saving models, predictions, and generated words to ./experiments/%s\" % run_id)"
   ]
  },
  {
   "cell_type": "code",
   "execution_count": 11,
   "metadata": {
    "execution": {
     "iopub.execute_input": "2022-08-10T14:02:14.110787Z",
     "iopub.status.busy": "2022-08-10T14:02:14.109778Z",
     "iopub.status.idle": "2022-08-10T14:02:14.929087Z",
     "shell.execute_reply": "2022-08-10T14:02:14.925078Z",
     "shell.execute_reply.started": "2022-08-10T14:02:14.110707Z"
    },
    "id": "DbHH6zXTSwRa",
    "tags": []
   },
   "outputs": [],
   "source": [
    "model = LanguageModel(len(vocab), embedding_dim=EMB_DIM, hidden_size=HIDDEN_SIZE)\n",
    "loader = LanguageModelDataLoader(dataset=dataset, batch_size=BATCH_SIZE, shuffle=True)\n",
    "trainer = LanguageModelTrainer(model=model, loader=loader, max_epochs=NUM_EPOCHS, run_id=run_id, lr=LR)"
   ]
  },
  {
   "cell_type": "code",
   "execution_count": 12,
   "metadata": {
    "execution": {
     "iopub.execute_input": "2022-08-10T14:02:14.932325Z",
     "iopub.status.busy": "2022-08-10T14:02:14.931775Z",
     "iopub.status.idle": "2022-08-10T14:35:37.109021Z",
     "shell.execute_reply": "2022-08-10T14:35:37.107016Z",
     "shell.execute_reply.started": "2022-08-10T14:02:14.932256Z"
    },
    "id": "7D8wTJkBSwRc",
    "scrolled": true,
    "tags": []
   },
   "outputs": [
    {
     "name": "stdout",
     "output_type": "stream",
     "text": [
      "[TRAIN]  Epoch [2/8]   Loss: 6.2864\n",
      "[VAL]  Epoch [1/8]   Loss: 4.9540\n",
      "Saving model, predictions and generated output for epoch 0 with NLL: 4.953958\n",
      "[TRAIN]  Epoch [3/8]   Loss: 5.4123\n",
      "[VAL]  Epoch [2/8]   Loss: 4.5906\n",
      "Saving model, predictions and generated output for epoch 1 with NLL: 4.590621\n",
      "[TRAIN]  Epoch [4/8]   Loss: 5.0944\n",
      "[VAL]  Epoch [3/8]   Loss: 4.4269\n",
      "Saving model, predictions and generated output for epoch 2 with NLL: 4.4269104\n",
      "[TRAIN]  Epoch [5/8]   Loss: 4.8970\n",
      "[VAL]  Epoch [4/8]   Loss: 4.4632\n",
      "[TRAIN]  Epoch [6/8]   Loss: 4.7561\n",
      "[VAL]  Epoch [5/8]   Loss: 4.4534\n",
      "[TRAIN]  Epoch [7/8]   Loss: 4.6664\n",
      "[VAL]  Epoch [6/8]   Loss: 4.4704\n",
      "[TRAIN]  Epoch [8/8]   Loss: 4.6002\n",
      "[VAL]  Epoch [7/8]   Loss: 4.4910\n",
      "[TRAIN]  Epoch [9/8]   Loss: 4.5668\n",
      "[VAL]  Epoch [8/8]   Loss: 4.5118\n"
     ]
    }
   ],
   "source": [
    "best_nll = 1e30 \n",
    "for epoch in range(NUM_EPOCHS):\n",
    "    trainer.train()\n",
    "    nll = trainer.test()\n",
    "    if nll < best_nll:\n",
    "        best_nll = nll\n",
    "        print(\"Saving model, predictions and generated output for epoch \"+str(epoch+1)+\" with NLL: \"+ str(best_nll))\n",
    "        trainer.save()\n",
    "    "
   ]
  },
  {
   "cell_type": "code",
   "execution_count": 13,
   "metadata": {
    "execution": {
     "iopub.execute_input": "2022-08-10T14:35:37.115762Z",
     "iopub.status.busy": "2022-08-10T14:35:37.115177Z",
     "iopub.status.idle": "2022-08-10T14:35:37.619178Z",
     "shell.execute_reply": "2022-08-10T14:35:37.617380Z",
     "shell.execute_reply.started": "2022-08-10T14:35:37.115691Z"
    },
    "id": "z2FmDqBCSwRf",
    "tags": []
   },
   "outputs": [
    {
     "data": {
      "image/png": "[encoded data removed]",
      "text/plain": [
       "<Figure size 432x288 with 1 Axes>"
      ]
     },
     "metadata": {
      "needs_background": "light"
     },
     "output_type": "display_data"
    }
   ],
   "source": [
    "# Don't change these\n",
    "# plot training curves\n",
    "plt.figure()\n",
    "plt.plot(range(1, trainer.epochs + 1), trainer.train_losses, label='Training losses')\n",
    "plt.plot(range(1, trainer.epochs + 1), trainer.val_losses, label='Validation losses')\n",
    "plt.xlabel('Epochs')\n",
    "plt.ylabel('NLL')\n",
    "plt.legend()\n",
    "plt.show()"
   ]
  },
  {
   "cell_type": "code",
   "execution_count": 14,
   "metadata": {
    "execution": {
     "iopub.execute_input": "2022-08-10T14:35:37.623322Z",
     "iopub.status.busy": "2022-08-10T14:35:37.622215Z",
     "iopub.status.idle": "2022-08-10T14:35:37.632729Z",
     "shell.execute_reply": "2022-08-10T14:35:37.631118Z",
     "shell.execute_reply.started": "2022-08-10T14:35:37.623242Z"
    },
    "id": "ipdbmqaGSwRh",
    "tags": []
   },
   "outputs": [
    {
     "name": "stdout",
     "output_type": "stream",
     "text": [
      "Input | Output #0: while the group was en route , but only three were ultimately able to attack . None of them were | also used to attack the <unk> , which had been\n",
      "Input | Output #1: <unk> , where he remained on loan until 30 June 2010 . <eol> = = = Return to Manchester United | = = = <eol> On July 7 , 2009 ,\n",
      "Input | Output #2: 25 April 2013 , denoting shipments of 500 @,@ 000 copies . <eol> The song became One Direction 's fourth | single , \" Best <unk> \" , and \" <unk>\n",
      "Input | Output #3: , and Bruce R. ) one daughter ( Wendy J. <unk> ) and two grandchildren , died in <unk> , | and the <unk> of the <unk> , the <unk> ,\n",
      "Input | Output #4: Warrior were examples of this type . Because their armor was so heavy , they could only carry a single | <unk> . The first time the ship had been damaged\n",
      "Input | Output #5: the embassy at 1 : 49 and landed on Guam at 2 : 23 ; twenty minutes later , Ambassador | <unk> <unk> ( <unk> ) , <unk> ( <unk> )\n",
      "Input | Output #6: <unk> , $ 96 million USD ) . Damage was heaviest in South Korea , notably where it moved ashore | . The storm moved to the west and then north\n",
      "Input | Output #7: The <unk> were condemned as <unk> by <unk> , who saw the riots as hampering attempts to resolve the situation | . <eol> = = = = <unk> = = =\n",
      "Input | Output #8: by a decision made by the War Office in mid @-@ 1941 , as it was considering the equipment to | the public . The new company had been established by\n",
      "Input | Output #9: Division crossed the <unk> at a number of places and climbed the hills quietly toward the 9th Infantry river line | . The ship was completed in December , and the\n",
      "Input | Output #10: = <eol> = = = French VIII . Corps ( Corps <unk> ) = = = <eol> On 6 November | , the German and Ottoman force of <unk> was transferred\n",
      "Input | Output #11: of the World from 9th Avenue \" . This is regarded as his most famous work . It is considered | the most popular of the world 's most popular characters\n",
      "Input | Output #12: — <unk> @-@ 10 , <unk> @-@ 12 , <unk> @-@ 16 , <unk> @-@ 17 — were all converted | into a <unk> . <eol> = = = = <unk>\n",
      "Input | Output #13: And now he has . \" <eol> = = Family = = <eol> <unk> lived 37 of his years in | the first half of the 20th century , and was\n",
      "Input | Output #14: Hell to which he has been condemned for <unk> . Eliot , in a letter to John <unk> dated 27 | June , he was appointed as a member of the\n",
      "Input | Output #15: Luoyang area , fulfilling his duties in domestic affairs . <eol> In the autumn of <unk> , he met Li | <unk> and his wife , and his wife , <unk>\n",
      "Input | Output #16: Power said they enjoyed Block Ball and its number of stages , but wondered how its eight <unk> of memory | . \" <eol> = = = <unk> = = =\n",
      "Input | Output #17: by Lloyd F. Lonergan . The cameraman was Jacques <unk> . <eol> = = Release and reception = = <eol> | The episode was written by <unk> <unk> , who was\n",
      "Input | Output #18: alone , the Austrians lost more than half their reserve artillery park , 6 @,@ 000 ( out of 8 | @,@ 000 ) and a pair of <unk> . <eol>\n",
      "Input | Output #19: while attacking a ship at <unk> in the Dutch East Indies ; the loss was compounded by the fact that | the ship was not able to withdraw . <eol> =\n",
      "Input | Output #20: first raised in 2007 by the member of parliament ( MP ) for <unk> . The gangsters may have run | the <unk> of the <unk> , and the <unk> of\n",
      "Input | Output #21: Species are also non @-@ spiny <unk> and includes both large trees with stout stems up to 30 metres ( | 39 ft ) . The <unk> is a <unk> <unk>\n",
      "Input | Output #22: \" : specific design issues with the building 's energy efficiency included the fact that the largest room in the | world is the largest , most commonly known as the\n",
      "Input | Output #23: were reported to support over 300 @,@ 000 households in the Brazilian state of <unk> in 2005 , and in | the United States , the United States , the United\n",
      "Input | Output #24: port . <unk> in Vietnam also warned for the potential of heavy rainfall due to the dissipating Tropical Depression <unk> | , but the storm was not as the result of\n",
      "Input | Output #25: T @-@ numbers in their tropical cyclone products . The following example is from discussion number 3 of Tropical Depression | One @-@ E formed on July 10 . The depression\n",
      "Input | Output #26: South Australia hosted the three @-@ game semi @-@ final series against the New South Wales <unk> . Both teams | were the first to win the Championship in the Football\n",
      "Input | Output #27: Perth from contention and secured the last finals spot for the <unk> . <eol> = = = Statistical leaders = | = = <eol> In the United States , the player\n",
      "Input | Output #28: deemed it an \" amazing pop song \" , lauding the group 's falsetto and its \" head @-@ <unk> | \" . The song was written by <unk> <unk> ,\n",
      "Input | Output #29: , but began patrolling the English Channel after <unk> @-@ 6 pioneered a route past British <unk> nets and mines | . <eol> = = = <unk> = = = <eol>\n",
      "Input | Output #30: production executives to let him direct . He had already discussed the film with <unk> and Cohen , and felt | that the episode was \" <unk> \" . <eol> =\n",
      "Input | Output #31: and Nick <unk> at Studio <unk> in Los Angeles , California , and was released on August 1 , 2006 | . The episode was written by <unk> <unk> and directed\n",
      "\n"
     ]
    }
   ],
   "source": [
    "# see generated output\n",
    "print (trainer.generated[-1]) # get last generated output"
   ]
  },
  {
   "cell_type": "code",
   "execution_count": null,
   "metadata": {},
   "outputs": [],
   "source": []
  }
 ],
 "metadata": {
  "colab": {
   "name": "training.ipynb",
   "provenance": []
  },
  "kernelspec": {
   "display_name": "Python 3",
   "language": "python",
   "name": "python3"
  },
  "language_info": {
   "codemirror_mode": {
    "name": "ipython",
    "version": 3
   },
   "file_extension": ".py",
   "mimetype": "text/x-python",
   "name": "python",
   "nbconvert_exporter": "python",
   "pygments_lexer": "ipython3",
   "version": "3.9.7"
  },
  "vscode": {
   "interpreter": {
    "hash": "4df2cc69eb3fd56a8a9780b07025dcfa15673fb6f5e64f079d5772d6ef5f08ae"
   }
  },
  "widgets": {
   "application/vnd.jupyter.widget-state+json": {
    "state": {},
    "version_major": 2,
    "version_minor": 0
   }
  }
 },
 "nbformat": 4,
 "nbformat_minor": 4
}
